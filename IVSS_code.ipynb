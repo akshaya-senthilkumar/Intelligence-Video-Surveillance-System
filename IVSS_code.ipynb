{
 "cells": [
  {
   "cell_type": "markdown",
   "id": "1d40f5e3",
   "metadata": {},
   "source": [
    "import sys\n",
    "print(sys.version)"
   ]
  },
  {
   "cell_type": "markdown",
   "id": "9e389510",
   "metadata": {},
   "source": [
    "!pip install C:/Users/admin/Documents/anaconda/surveillance_project/dlib-19.24.1-cp311-cp311-win_amd64.whl"
   ]
  },
  {
   "cell_type": "markdown",
   "id": "30875079",
   "metadata": {},
   "source": [
    "!pip install opencv-python"
   ]
  },
  {
   "cell_type": "markdown",
   "id": "9b8776f6",
   "metadata": {},
   "source": [
    "!pip install face_recognition"
   ]
  },
  {
   "cell_type": "markdown",
   "id": "8346c2bb",
   "metadata": {},
   "source": [
    "import dlib\n",
    "import cmake"
   ]
  },
  {
   "cell_type": "code",
   "execution_count": 1,
   "id": "b8db089d",
   "metadata": {},
   "outputs": [],
   "source": [
    "import cv2\n",
    "import face_recognition\n",
    "import os\n",
    "from datetime import datetime\n",
    "\n",
    "known_face_encodings = []\n",
    "known_face_names = []\n",
    "\n",
    "known_faces_dir = 'C:/Users/admin/Documents/anaconda/surveillance_project/known_faces'\n",
    "\n",
    "for filename in os.listdir(known_faces_dir):\n",
    "    if filename.endswith('.jpg') or filename.endswith('.png'):\n",
    "        \n",
    "        image_path = os.path.join(known_faces_dir, filename)\n",
    "        image = face_recognition.load_image_file(image_path)\n",
    "\n",
    "        face_encoding = face_recognition.face_encodings(image)[0]\n",
    "\n",
    "        known_face_encodings.append(face_encoding)\n",
    "        known_face_names.append(os.path.splitext(filename)[0])  \n",
    "\n",
    "webcam = cv2.VideoCapture(0)\n",
    "\n",
    "save_dir_known = 'C:/Users/admin/Documents/anaconda/surveillance_project/workers'\n",
    "save_dir_unknown = 'C:/Users/admin/Documents/anaconda/surveillance_project/customers'\n",
    "if not os.path.exists(save_dir_known):\n",
    "    os.makedirs(save_dir_known)\n",
    "if not os.path.exists(save_dir_unknown):\n",
    "    os.makedirs(save_dir_unknown)\n",
    "\n",
    "saved_faces = set()\n",
    "customer_encodings = []  \n",
    "customer_count = 1  \n",
    "\n",
    "while True:\n",
    "\n",
    "    working, video = webcam.read()\n",
    "    if not working:\n",
    "        break\n",
    "\n",
    "    small_frame = cv2.resize(video, (0, 0), fx=0.25, fy=0.25)\n",
    "    rgb_small_frame = cv2.cvtColor(small_frame, cv2.COLOR_BGR2RGB)\n",
    "\n",
    "    face_locations = face_recognition.face_locations(rgb_small_frame)\n",
    "    face_encodings = face_recognition.face_encodings(rgb_small_frame, face_locations)\n",
    "\n",
    "    for (top, right, bottom, left), face_encoding in zip(face_locations, face_encodings):\n",
    "\n",
    "        top *= 4\n",
    "        right *= 4\n",
    "        bottom *= 4\n",
    "        left *= 4\n",
    "\n",
    "        matches = face_recognition.compare_faces(known_face_encodings, face_encoding)\n",
    "        name = \"Unknown\"\n",
    "\n",
    "        if True in matches:\n",
    "            first_match_index = matches.index(True)\n",
    "            name = known_face_names[first_match_index]\n",
    "        else:\n",
    "            customer_match = face_recognition.compare_faces(customer_encodings, face_encoding)\n",
    "            if True in customer_match:\n",
    "                match_index = customer_match.index(True)\n",
    "                name = f\"customer{match_index + 1}\"\n",
    "            else:\n",
    "                name = f\"customer{customer_count}\"\n",
    "                customer_encodings.append(face_encoding)\n",
    "                customer_count += 1\n",
    "\n",
    "        cv2.rectangle(video, (left, top), (right, bottom), (0, 255, 0), 3)\n",
    "\n",
    "        cv2.rectangle(video, (left, top - 35), (right, top), (0, 255, 0), cv2.FILLED)\n",
    "        font = cv2.FONT_HERSHEY_DUPLEX\n",
    "        cv2.putText(video, name, (left + 6, top - 6), font, 1.0, (255, 255, 255), 1)\n",
    "\n",
    "        if name not in saved_faces:\n",
    "            face_roi = video[top:bottom, left:right]\n",
    "            date_dir = os.path.join(save_dir_known if name in known_face_names else save_dir_unknown, datetime.now().strftime('%Y-%m-%d'))\n",
    "            if not os.path.exists(date_dir):\n",
    "                os.makedirs(date_dir)\n",
    "            cv2.imwrite(os.path.join(date_dir, name + '_' + datetime.now().strftime(\"%H-%M-%S\") + '.jpg'), face_roi)\n",
    "            saved_faces.add(name) \n",
    "\n",
    "    cv2.imshow(\"Live_video\", video)\n",
    "\n",
    "    if cv2.waitKey(1) & 0xFF == ord('q'):\n",
    "        break\n",
    "\n",
    "webcam.release()\n",
    "cv2.destroyAllWindows()"
   ]
  }
 ],
 "metadata": {
  "kernelspec": {
   "display_name": "Python 3 (ipykernel)",
   "language": "python",
   "name": "python3"
  },
  "language_info": {
   "codemirror_mode": {
    "name": "ipython",
    "version": 3
   },
   "file_extension": ".py",
   "mimetype": "text/x-python",
   "name": "python",
   "nbconvert_exporter": "python",
   "pygments_lexer": "ipython3",
   "version": "3.11.5"
  }
 },
 "nbformat": 4,
 "nbformat_minor": 5
}
